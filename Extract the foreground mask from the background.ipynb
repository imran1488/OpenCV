{
 "cells": [
  {
   "cell_type": "code",
   "execution_count": 1,
   "id": "studied-reservation",
   "metadata": {},
   "outputs": [],
   "source": [
    "#Extract the foreground mask from the background\n"
   ]
  },
  {
   "cell_type": "code",
   "execution_count": 2,
   "id": "defensive-active",
   "metadata": {},
   "outputs": [],
   "source": [
    "import cv2"
   ]
  },
  {
   "cell_type": "code",
   "execution_count": 3,
   "id": "expressed-explosion",
   "metadata": {},
   "outputs": [],
   "source": [
    "import time"
   ]
  },
  {
   "cell_type": "code",
   "execution_count": 4,
   "id": "clean-clause",
   "metadata": {},
   "outputs": [],
   "source": [
    "vidCap = cv2.VideoCapture(\"mixkit-busy-street-in-the-city-4000.mp4\")\n",
    "\n",
    "#read the frame 1\n",
    "ret , frame1 = vidCap.read() #reads the next frmae \n",
    "cv2.imshow(\"Frame_1\",frame1)\n",
    "\n",
    "#read the frame 2\n",
    "while vidCap.isOpened():\n",
    "    ret , frame2 = vidCap.read() #reads the next frmae \n",
    "    \n",
    "    #Check all end of frame has been reached\n",
    "    if not ret:\n",
    "        break\n",
    "    cv2.imshow(\"Frame_2\",frame2)\n",
    "\n",
    "    #extract tje foreground mask\n",
    "    fgMask = cv2.absdiff(frame1,frame2)\n",
    "\n",
    "    # apply the threshold for increasing white foreground\n",
    "    _,thresh = cv2.threshold(fgMask,10,0,cv2.THRESH_BINARY)\n",
    "    cv2.imshow(\"ForegroundMask\",fgMask)\n",
    "    \n",
    "    # assign frame2 to frame1 to continue the iteration untill all frames are read\n",
    "    frame1 =frame2\n",
    "    \n",
    "    #wait key for any key to be pressed \n",
    "    if cv2.waitKey(1) & 0xFF==ord('q'):\n",
    "        break\n",
    "\n",
    "# realease the video capture \n",
    "cv2.destroyAllWindows()\n",
    "vidCap.release()\n",
    "\n"
   ]
  },
  {
   "cell_type": "code",
   "execution_count": 5,
   "id": "fresh-agriculture",
   "metadata": {},
   "outputs": [],
   "source": [
    "# Method 2\n",
    "vidCap = cv2.VideoCapture(\"mixkit-busy-street-in-the-city-4000.mp4\")\n",
    "\n",
    "# Initialize opencv Background Substractor for KNN and MOG2\n",
    "bs_knn = cv2.createBackgroundSubtractorKNN();\n",
    "bs_mog2 = cv2.createBackgroundSubtractorMOG2()\n",
    "\n",
    "while vidCap.isOpened():\n",
    "    ret,frame = vidCap.read() # reads the next frame\n",
    "    cv2.imshow('Original Video',frame)\n",
    "    #Extract the KNN Method of foreground mask\n",
    "    knn_FGMask = bs_knn.apply(frame)\n",
    "    cv2.imshow(\"KNN - Method: Foreground Mask\",knn_FGMask)\n",
    "    \n",
    "    #Extract the MOG2 method of foreground mask\n",
    "    mog2_Mask = bs_mog2.apply(frame)\n",
    "    cv2.imshow(\"MOG2 - Method: Foreground Mask\",mog2_Mask)\n",
    "    \n",
    "    #wait for any key to be pressed\n",
    "    if cv2.waitKey(1) & 0xFF==ord('q'):\n",
    "        break\n",
    "# realease video capture\n",
    "cv2.destroyAllWindows()\n",
    "vidCap.release()\n",
    "    "
   ]
  },
  {
   "cell_type": "code",
   "execution_count": null,
   "id": "talented-wayne",
   "metadata": {},
   "outputs": [],
   "source": []
  }
 ],
 "metadata": {
  "kernelspec": {
   "display_name": "Python 3",
   "language": "python",
   "name": "python3"
  },
  "language_info": {
   "codemirror_mode": {
    "name": "ipython",
    "version": 3
   },
   "file_extension": ".py",
   "mimetype": "text/x-python",
   "name": "python",
   "nbconvert_exporter": "python",
   "pygments_lexer": "ipython3",
   "version": "3.8.8"
  }
 },
 "nbformat": 4,
 "nbformat_minor": 5
}
